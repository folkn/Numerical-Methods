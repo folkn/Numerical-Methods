{
  "nbformat": 4,
  "nbformat_minor": 0,
  "metadata": {
    "colab": {
      "name": "Linear Systems.ipynb",
      "version": "0.3.2",
      "provenance": [],
      "collapsed_sections": [],
      "include_colab_link": true
    },
    "kernelspec": {
      "name": "python36",
      "display_name": "Python 3.6",
      "language": "python"
    }
  },
  "cells": [
    {
      "cell_type": "markdown",
      "metadata": {
        "id": "view-in-github",
        "colab_type": "text"
      },
      "source": [
        "<a href=\"https://colab.research.google.com/github/folkn/Numerical-Methods/blob/master/Linear_Systems.ipynb\" target=\"_parent\"><img src=\"https://colab.research.google.com/assets/colab-badge.svg\" alt=\"Open In Colab\"/></a>"
      ]
    },
    {
      "metadata": {
        "id": "6NvFK3wtXmMI",
        "colab_type": "text"
      },
      "cell_type": "markdown",
      "source": [
        "# SOLVING LINEAR SYSTEMS in PYTHON\n",
        "**Warapong Narongrit and Techin Choklertwatana**"
      ]
    },
    {
      "metadata": {
        "id": "1uX7AXw1XmMK",
        "colab_type": "text"
      },
      "cell_type": "markdown",
      "source": [
        "references\n",
        "https://numericalmethodsece101.weebly.com/doolittlersquos-method.html\n",
        "https://numericmethod.weebly.com/uploads/2/5/0/8/25086597/lkm-8-e.pdf"
      ]
    },
    {
      "metadata": {
        "id": "2tqWuTsFXmML",
        "colab_type": "text"
      },
      "cell_type": "markdown",
      "source": [
        "We import the numPy library with the shortcut 'np'"
      ]
    },
    {
      "metadata": {
        "trusted": true,
        "scrolled": true,
        "id": "yukPw-v8XmMN",
        "colab_type": "code",
        "colab": {}
      },
      "cell_type": "code",
      "source": [
        "import numpy as np\n",
        "from scipy import linalg\n"
      ],
      "execution_count": 0,
      "outputs": []
    },
    {
      "metadata": {
        "trusted": true,
        "id": "Yk6uHOD6XmMS",
        "colab_type": "text"
      },
      "cell_type": "markdown",
      "source": [
        "We are interested in solving simultaneous linear equations.\n",
        "FIRST, we input the simultaneous equation in matrix form $AX=B$ :\n",
        "\n",
        "$$\n",
        "\\begin{bmatrix}\n",
        "    A_{11}       & A_{12} & A_{13} & \\dots & A_{1n} \\\\\n",
        "    A_{21}       & A_{22} & A_{23} & \\dots & A_{2n} \\\\\n",
        "    A_{d1}       & A_{d2} & A_{d3} & \\dots & A_{dn}\n",
        "\\end{bmatrix} \n",
        "\\begin{bmatrix}\n",
        "     X_1 \\\\\n",
        "     \\dots \\\\\n",
        "     X_n \n",
        "\\end{bmatrix}\n",
        "= \\begin{bmatrix}\n",
        "    B_1 \\\\\n",
        "    \\dots \\\\\n",
        "    B_n\n",
        "\\end{bmatrix}\n",
        "$$\n"
      ]
    },
    {
      "metadata": {
        "trusted": true,
        "scrolled": true,
        "id": "qfCc0I22XmMT",
        "colab_type": "code",
        "colab": {
          "base_uri": "https://localhost:8080/",
          "height": 255
        },
        "outputId": "872f2e0d-c671-4957-8714-45d598ea0f8d"
      },
      "cell_type": "code",
      "source": [
        "#INPUT MATRIX HERE#\n",
        "A = np.array([[2., 1.], [5.,7.]])\n",
        "B = np.array([[11.], [13.]])\n",
        "\n",
        "################################################################\n",
        "print('Input:\\nA=\\n' + str(A)); print('B=\\n' + str(B))   #Prints matrices\n",
        "print('\\nOutput:\\neigenvalues= ' + str(np.linalg.eigvals(A))) #Checks eigenvalues\n",
        "print ('\\nActual Solution: X=\\n' + str(np.linalg.solve(A,B))) #Exact solution as calculated by numpy"
      ],
      "execution_count": 19,
      "outputs": [
        {
          "output_type": "stream",
          "text": [
            "Input:\n",
            "A=\n",
            "[[2. 1.]\n",
            " [5. 7.]]\n",
            "B=\n",
            "[[11.]\n",
            " [13.]]\n",
            "\n",
            "Output:\n",
            "eigenvalues= [1.14589803 7.85410197]\n",
            "\n",
            "Actual Solution: X=\n",
            "[[ 7.11111111]\n",
            " [-3.22222222]]\n"
          ],
          "name": "stdout"
        }
      ]
    },
    {
      "metadata": {
        "id": "Fjryd0r4XmMW",
        "colab_type": "text"
      },
      "cell_type": "markdown",
      "source": [
        "## Analytical Solution using Gauss Elimination"
      ]
    },
    {
      "metadata": {
        "trusted": true,
        "scrolled": true,
        "id": "c5G7I58VXmMY",
        "colab_type": "text"
      },
      "cell_type": "markdown",
      "source": [
        "## Analytical Solution using LU Factorization "
      ]
    },
    {
      "metadata": {
        "trusted": true,
        "id": "jMePtQLZXmMZ",
        "colab_type": "text"
      },
      "cell_type": "markdown",
      "source": [
        "This method uses the idea that all matrices (except those with some diagonal elements being zero) can be factorized into products Lower and upper triangular matrices:\n",
        "\n",
        "$$A = LU$$ \n",
        "\n",
        "$$\n",
        "\\begin{bmatrix}\n",
        "    A_{11}       & A_{12} & A_{13}  \\\\\n",
        "    A_{21}       & A_{22} & A_{23}  \\\\\n",
        "    A_{31}       & A_{32} & A_{33} \n",
        "\\end{bmatrix} =\n",
        "\\begin{bmatrix}\n",
        "    l_{11}       & 0 & 0  \\\\\n",
        "    l_{21}       & l_{22} & 0  \\\\\n",
        "    l_{31}       & l_{32} & l_{33} \n",
        "\\end{bmatrix} \n",
        "\\begin{bmatrix}\n",
        "    u_{11}       & u_{12} & u_{13}  \\\\\n",
        "    0       & u_{22} & u_{23}  \\\\\n",
        "    0       & 0 & 0\n",
        "\\end{bmatrix}\n",
        "$$\n",
        "\n",
        "There is more than one way of factorizing, so three **LU Factorization** methods are used:\n",
        "1. **Doolittle** - all Diagonals of $L$ are $1$    ($l_{11} = l_{22} = l_{nn} = 1$)\n",
        "2. **Crout** - all Diagonals of $U$ are $1$     ($u_{11} = u_{22} = u_{nn} = 1$)\n",
        "3. **Cholesky** - $U = L^\\text{T}$ or equivalently $L=U^\\text{T}$ such that $A=LL^\\text{T}$ (*works only if A=positive definite(**positive eigenvalues**) and symmetric **($A=A^\\text{T}$)**\n",
        "---\n",
        "**The procedure to solving linear systems is:**\n",
        "1. LU-Factorize the coefficients matrix $A$ using one of the methods\n",
        "2. Let $LY = B$ where $Y$ is an intermediate variable matrix. Solve for $Y$\n",
        "3. Let $UX = Y$ then solve for the unknowns $X$ "
      ]
    },
    {
      "metadata": {
        "id": "ctIl6LOlXmMa",
        "colab_type": "text"
      },
      "cell_type": "markdown",
      "source": [
        "I first create functions for steps 2 and 3 since all methods will require these steps"
      ]
    },
    {
      "metadata": {
        "trusted": true,
        "id": "_dUz0AOkXmMc",
        "colab_type": "code",
        "colab": {}
      },
      "cell_type": "code",
      "source": [
        "def LY_B (L, B) : #Step 2\n",
        "    Y =  np.matmul((np.linalg.inv(L)), B)\n",
        "    return Y\n",
        "\n",
        "def UX_Y (U, Y) : #Step 3\n",
        "    X = np.matmul(np.linalg.inv(U) , Y)\n",
        "    return X"
      ],
      "execution_count": 0,
      "outputs": []
    },
    {
      "metadata": {
        "id": "OvBWfSYWXmMf",
        "colab_type": "text"
      },
      "cell_type": "markdown",
      "source": [
        "Now I will perform the three methods of factorization methods"
      ]
    },
    {
      "metadata": {
        "id": "Bgjr1476XmMg",
        "colab_type": "text"
      },
      "cell_type": "markdown",
      "source": [
        "### 1. Doolittle's Method https://www.codewithc.com/lu-decomposition-algorithm-flowchart/ https://vismor.com/documents/network_analysis/matrix_algorithms/S4.SS2.php ###\n",
        "\n",
        "In the code, we convert the $LU$ vector multiplication into a dot multiplcation problem for better scaling."
      ]
    },
    {
      "metadata": {
        "trusted": true,
        "scrolled": true,
        "id": "gHpHkDH9XmMh",
        "colab_type": "code",
        "colab": {
          "base_uri": "https://localhost:8080/",
          "height": 255
        },
        "outputId": "87563293-d2eb-4b7f-d8a1-9327b83c7121"
      },
      "cell_type": "code",
      "source": [
        "#1. Doolittle Factorization https://stackoverflow.com/questions/48715594/why-is-my-profs-version-of-lu-decomposition-faster-than-mine-python-numpy\n",
        "def doolittle(A) : \n",
        "    N = np.size(A, 0)    # Number of Rows (Equations)\n",
        "    \n",
        "    # Create empty L U matrices with the dimensions of A\n",
        "    L = np.zeros_like(A)  \n",
        "    U = np.zeros_like(A)\n",
        "\n",
        "\n",
        "    for k in range(N):   #For each equation (row) k\n",
        "        #Determining Diagonal Elements\n",
        "        L[k, k] = 1      #Set the L diagonal to 1  (Doolittle Requirement)\n",
        "        U[k, k] = (A[k, k] - np.dot(L[k, :k], U[:k, k])) / L[k, k] \n",
        "        #Determining Other Elements\n",
        "        for j in range(k+1, N):\n",
        "            U[k, j] = (A[k, j] - np.dot(L[k, :k], U[:k, j])) / L[k, k]\n",
        "        for i in range(k+1, N):\n",
        "            L[i, k] = (A[i, k] - np.dot(L[i, :k], U[:k, k])) / U[k, k]\n",
        "    return L, U\n",
        "    \n",
        "L, U = doolittle(A);\n",
        "print ('L=\\n' +str(L)); print('U=\\n' + str(U))\n",
        "\n",
        "#Step 2, 3, ANS\n",
        "Y= LY_B(L,B)\n",
        "X = UX_Y(U,Y)\n",
        "print ('LY=B\\nY=\\n' + str(Y)); print ('UX=Y\\nX=\\n' +str(X) +'\\tANS')\n"
      ],
      "execution_count": 18,
      "outputs": [
        {
          "output_type": "stream",
          "text": [
            "L=\n",
            "[[1.  0. ]\n",
            " [2.5 1. ]]\n",
            "U=\n",
            "[[2.  1. ]\n",
            " [0.  4.5]]\n",
            "LY=B\n",
            "Y=\n",
            "[[ 11. ]\n",
            " [-14.5]]\n",
            "UX=Y\n",
            "X=\n",
            "[[ 7.11111111]\n",
            " [-3.22222222]]\tANS\n"
          ],
          "name": "stdout"
        }
      ]
    },
    {
      "metadata": {
        "trusted": true,
        "id": "0noOjoaUXmMp",
        "colab_type": "code",
        "colab": {
          "base_uri": "https://localhost:8080/",
          "height": 333
        },
        "outputId": "034a545e-e6c8-4754-e179-f2e42f170513"
      },
      "cell_type": "code",
      "source": [
        "#Doolittle using SciPy's functinos\n",
        "def scipy_plu(A) :\n",
        "    L, U = linalg.lu(A, True)\n",
        "    return L,U\n",
        "L,U = scipy_plu(A)\n",
        "print ('L=\\n' +str(L)); print('U=\\n' + str(U))\n",
        "\n",
        " #Step 2, 3, ANS\n",
        "Y= LY_B(L,B)\n",
        "X = UX_Y(U,Y)\n",
        "print ('LY=B\\nY=\\n' + str(Y)); print ('UX=Y\\nX=\\n' +str(X) +'\\tANS')"
      ],
      "execution_count": 13,
      "outputs": [
        {
          "output_type": "stream",
          "text": [
            "L=\n",
            "[[0.4 1. ]\n",
            " [1.  0. ]]\n",
            "U=\n",
            "[[ 5.   7. ]\n",
            " [ 0.  -1.8]]\n"
          ],
          "name": "stdout"
        },
        {
          "output_type": "error",
          "ename": "NameError",
          "evalue": "ignored",
          "traceback": [
            "\u001b[0;31m\u001b[0m",
            "\u001b[0;31mNameError\u001b[0mTraceback (most recent call last)",
            "\u001b[0;32m<ipython-input-13-4aa470380bde>\u001b[0m in \u001b[0;36m<module>\u001b[0;34m()\u001b[0m\n\u001b[1;32m      6\u001b[0m \u001b[0;34m\u001b[0m\u001b[0m\n\u001b[1;32m      7\u001b[0m  \u001b[0;31m#Step 2, 3, ANS\u001b[0m\u001b[0;34m\u001b[0m\u001b[0;34m\u001b[0m\u001b[0m\n\u001b[0;32m----> 8\u001b[0;31m \u001b[0mY\u001b[0m\u001b[0;34m=\u001b[0m \u001b[0mLY_B\u001b[0m\u001b[0;34m(\u001b[0m\u001b[0mL\u001b[0m\u001b[0;34m,\u001b[0m\u001b[0mB\u001b[0m\u001b[0;34m)\u001b[0m\u001b[0;34m\u001b[0m\u001b[0m\n\u001b[0m\u001b[1;32m      9\u001b[0m \u001b[0mX\u001b[0m \u001b[0;34m=\u001b[0m \u001b[0mUX_Y\u001b[0m\u001b[0;34m(\u001b[0m\u001b[0mU\u001b[0m\u001b[0;34m,\u001b[0m\u001b[0mY\u001b[0m\u001b[0;34m)\u001b[0m\u001b[0;34m\u001b[0m\u001b[0m\n\u001b[1;32m     10\u001b[0m \u001b[0;32mprint\u001b[0m \u001b[0;34m(\u001b[0m\u001b[0;34m'LY=B\\nY=\\n'\u001b[0m \u001b[0;34m+\u001b[0m \u001b[0mstr\u001b[0m\u001b[0;34m(\u001b[0m\u001b[0mY\u001b[0m\u001b[0;34m)\u001b[0m\u001b[0;34m)\u001b[0m\u001b[0;34m;\u001b[0m \u001b[0;32mprint\u001b[0m \u001b[0;34m(\u001b[0m\u001b[0;34m'UX=Y\\nX=\\n'\u001b[0m \u001b[0;34m+\u001b[0m\u001b[0mstr\u001b[0m\u001b[0;34m(\u001b[0m\u001b[0mX\u001b[0m\u001b[0;34m)\u001b[0m \u001b[0;34m+\u001b[0m\u001b[0;34m'\\tANS'\u001b[0m\u001b[0;34m)\u001b[0m\u001b[0;34m\u001b[0m\u001b[0m\n",
            "\u001b[0;31mNameError\u001b[0m: name 'LY_B' is not defined"
          ]
        }
      ]
    },
    {
      "metadata": {
        "id": "UJY11sX-XmMt",
        "colab_type": "text"
      },
      "cell_type": "markdown",
      "source": [
        "### 2. Crout's Method"
      ]
    },
    {
      "metadata": {
        "trusted": true,
        "id": "rbKaJrcOXmMu",
        "colab_type": "code",
        "colab": {}
      },
      "cell_type": "code",
      "source": [
        "#2. Crout Factorization \n"
      ],
      "execution_count": 0,
      "outputs": []
    },
    {
      "metadata": {
        "id": "EsKV9xM_XmMx",
        "colab_type": "text"
      },
      "cell_type": "markdown",
      "source": [
        "### 3. Cholesky's Method"
      ]
    },
    {
      "metadata": {
        "trusted": true,
        "id": "6fusl1i2XmMy",
        "colab_type": "code",
        "colab": {
          "base_uri": "https://localhost:8080/",
          "height": 255
        },
        "outputId": "5e8e637d-ca4f-45b7-ab45-f0c3db9cc8a8"
      },
      "cell_type": "code",
      "source": [
        "#3. Cholesky's Method\n",
        "def cholesky(A) :\n",
        "    L = np.linalg.cholesky(A) #wow!\n",
        "    U = L.T #Cholesky requirement U=transpose(L)\n",
        "    return L,U\n",
        "\n",
        "#Try the cholesky, and catch any errors\n",
        "try:\n",
        "    L,U = cholesky(A)\n",
        "except Exception as err:\n",
        "    print (err)\n",
        "print ('L=\\n' +str(L)); print('U=\\n' + str(U))\n",
        "#Step 2, 3, ANS\n",
        "Y= LY_B(L,B)\n",
        "X = UX_Y(U,Y)\n",
        "print ('LY=B\\nY=\\n' + str(Y)); print ('UX=Y\\nX=\\n' +str(X) +'\\tANS')"
      ],
      "execution_count": 20,
      "outputs": [
        {
          "output_type": "stream",
          "text": [
            "L=\n",
            "[[2.23606798 0.        ]\n",
            " [1.34164079 0.4472136 ]]\n",
            "U=\n",
            "[[2.23606798 1.34164079]\n",
            " [0.         0.4472136 ]]\n",
            "LY=B\n",
            "Y=\n",
            "[[0.4472136 ]\n",
            " [3.13049517]]\n",
            "UX=Y\n",
            "X=\n",
            "[[-4.]\n",
            " [ 7.]]\tANS\n"
          ],
          "name": "stdout"
        }
      ]
    },
    {
      "metadata": {
        "id": "LuSW72bHXmM3",
        "colab_type": "text"
      },
      "cell_type": "markdown",
      "source": [
        "## Numerical Solutions using Iterations"
      ]
    },
    {
      "metadata": {
        "id": "2q0cVfsNXmM5",
        "colab_type": "text"
      },
      "cell_type": "markdown",
      "source": [
        "This method uses repeated calculations to **approximate** the solutions."
      ]
    },
    {
      "metadata": {
        "id": "SvMpqiz4XmM5",
        "colab_type": "text"
      },
      "cell_type": "markdown",
      "source": [
        "## 1. Jacobi Iteration\n",
        "Assumes that the diagnoal elements are non-zero https://www3.nd.edu/~zxu2/acms40390F12/Lec-7.3.pdf https://www.kth.se/social/files/5885d039f2765429974418ce/Lab1.pdf\n",
        "https://gist.github.com/angellicacardozo/3a0891adfa38e2c4187612e57bf271d1"
      ]
    },
    {
      "metadata": {
        "trusted": true,
        "id": "gemGKK0PXmM6",
        "colab_type": "code",
        "colab": {
          "base_uri": "https://localhost:8080/",
          "height": 187
        },
        "outputId": "d6a9c61f-9d35-4a8c-fcaa-06b9cefd139a"
      },
      "cell_type": "code",
      "source": [
        "###Please Input 'Guess' Here as a column vector###\n",
        "X = np.array([[2.9], [-3.5]])\n",
        "Iterations = 1000\n",
        "Tolerance = 0.01 #Absolute Tolerance           Stop calculation if either tolerance or iteration condition is met\n",
        "######################################################################\n",
        "print('Guess X=\\n'+str(X) + '\\nsolve A=\\n' +str(A) + '  using ' +str(Iterations) + ' Iterations, Abs.Tol=' + str(Tolerance))\n",
        "\n",
        "def jacobi(A, b, N, x):\n",
        "                                                                                                                                                                   \n",
        "    # (1) Create a vector using the diagonal elemts of A\n",
        "    D = diag(A)\n",
        "    # (2) Subtract D vector from A into the new vector R\n",
        "    R = A - diagflat(D)\n",
        "    # (3) We must Iterate for N times                                                                                                                                                                          \n",
        "    for i in range(N):\n",
        "        x = (b - dot(R,x)) / D\n",
        "    return x\n",
        "\n",
        "A = array([[2.0,1.0],[5.0,7.0]])\n",
        "b = array([11.0,13.0])\n",
        "x = array([1.0,1.0])\n",
        "sol = jacobi(A,b, 250000, x)\n",
        "\n",
        "print ('X=' +str(sol) +'\\tANS')"
      ],
      "execution_count": 29,
      "outputs": [
        {
          "output_type": "stream",
          "text": [
            "Guess X=\n",
            "[[ 2.9]\n",
            " [-3.5]]\n",
            "solve A=\n",
            "[[2. 1.]\n",
            " [5. 7.]]  using 1000 Iterations, Abs.Tol=0.01\n",
            "\n",
            "Output:\n",
            "eigenvalues= [ 2.23606798 -2.23606798]\n",
            "X=[ 7.11111111 -3.22222222]\tANS\n"
          ],
          "name": "stdout"
        }
      ]
    },
    {
      "metadata": {
        "trusted": true,
        "id": "I8UFf-c9XmNH",
        "colab_type": "code",
        "colab": {
          "base_uri": "https://localhost:8080/",
          "height": 85
        },
        "outputId": "69e76247-7bcf-445d-9419-03c2d381d849"
      },
      "cell_type": "code",
      "source": [
        "from numpy import array, zeros, diag, diagflat, dot\n",
        "\n",
        "def Jacobi(A, b, N, x):\n",
        "                                                                                                                                                                   \n",
        "    # (1) Create a vector using the diagonal elemts of A\n",
        "    D = diag(A)\n",
        "    # (2) Subtract D vector from A into the new vector R\n",
        "    R = A - diagflat(D)\n",
        "    print('\\nOutput:\\neigenvalues= ' + str(np.linalg.eigvals(R)))\n",
        "    # (3) We must Iterate for N times                                                                                                                                                                          \n",
        "    for i in range(N):\n",
        "        x = (b - dot(R,x)) / D\n",
        "    return x\n",
        "\n",
        "A = array([[2.0,1.0],[5.0,7.0]])\n",
        "b = array([11.0,13.0])\n",
        "x = array([1.0,1.0])\n",
        "sol = Jacobi(A,b, 250000, x)\n",
        "\n",
        "print(\"Solution for x is: \", sol)"
      ],
      "execution_count": 24,
      "outputs": [
        {
          "output_type": "stream",
          "text": [
            "\n",
            "Output:\n",
            "eigenvalues= [ 2.23606798 -2.23606798]\n",
            "('Solution for x is: ', array([ 7.11111111, -3.22222222]))\n"
          ],
          "name": "stdout"
        }
      ]
    }
  ]
}