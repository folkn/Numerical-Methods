{
  "nbformat": 4,
  "nbformat_minor": 0,
  "metadata": {
    "colab": {
      "name": "Linear Systems.ipynb",
      "version": "0.3.2",
      "provenance": [],
      "collapsed_sections": [
        "LuSW72bHXmM3"
      ],
      "include_colab_link": true
    },
    "kernelspec": {
      "name": "python36",
      "display_name": "Python 3.6",
      "language": "python"
    }
  },
  "cells": [
    {
      "cell_type": "markdown",
      "metadata": {
        "id": "view-in-github",
        "colab_type": "text"
      },
      "source": [
        "<a href=\"https://colab.research.google.com/github/folkn/Numerical-Methods/blob/master/Linear_Systems.ipynb\" target=\"_parent\"><img src=\"https://colab.research.google.com/assets/colab-badge.svg\" alt=\"Open In Colab\"/></a>"
      ]
    },
    {
      "metadata": {
        "id": "6NvFK3wtXmMI",
        "colab_type": "text"
      },
      "cell_type": "markdown",
      "source": [
        "# SOLVING LINEAR SYSTEMS in PYTHON\n",
        "**Warapong Narongrit and Techin Choklertwatana**"
      ]
    },
    {
      "metadata": {
        "id": "1uX7AXw1XmMK",
        "colab_type": "text"
      },
      "cell_type": "markdown",
      "source": [
        "references\n",
        "https://numericalmethodsece101.weebly.com/doolittlersquos-method.html\n",
        "https://numericmethod.weebly.com/uploads/2/5/0/8/25086597/lkm-8-e.pdf"
      ]
    },
    {
      "metadata": {
        "id": "2tqWuTsFXmML",
        "colab_type": "text"
      },
      "cell_type": "markdown",
      "source": [
        "We start by importing the necessary libraries. Namely **numpy** and **scipy** for linear algebra functions"
      ]
    },
    {
      "metadata": {
        "trusted": true,
        "scrolled": true,
        "id": "yukPw-v8XmMN",
        "colab_type": "code",
        "colab": {}
      },
      "cell_type": "code",
      "source": [
        "import numpy as np\n",
        "from scipy import linalg\n",
        "np.set_printoptions(floatmode='maxprec_equal')\n",
        "import pprint"
      ],
      "execution_count": 0,
      "outputs": []
    },
    {
      "metadata": {
        "trusted": true,
        "id": "Yk6uHOD6XmMS",
        "colab_type": "text"
      },
      "cell_type": "markdown",
      "source": [
        "We are interested in solving simultaneous linear equations.\n",
        "FIRST, we input the simultaneous equation in matrix form $Ax=b$ :\n",
        "\n",
        "$$\n",
        "\\begin{bmatrix}\n",
        "    A_{11}       & A_{12} & A_{13} & \\dots & A_{1n} \\\\\n",
        "    A_{21}       & A_{22} & A_{23} & \\dots & A_{2n} \\\\\n",
        "    A_{d1}       & A_{d2} & A_{d3} & \\dots & A_{dn}\n",
        "\\end{bmatrix} \n",
        "\\begin{bmatrix}\n",
        "     x_1 \\\\\n",
        "     \\dots \\\\\n",
        "     x_n \n",
        "\\end{bmatrix}\n",
        "= \\begin{bmatrix}\n",
        "    b_1 \\\\\n",
        "    \\dots \\\\\n",
        "    b_n\n",
        "\\end{bmatrix}\n",
        "$$\n",
        "\n",
        "Input the matrix to be solved here. $A$ as a square matrix, $B$ as a column vector\n"
      ]
    },
    {
      "metadata": {
        "trusted": true,
        "scrolled": true,
        "id": "qfCc0I22XmMT",
        "colab_type": "code",
        "outputId": "cd85c5bb-430d-492b-95dc-15612bab8ee6",
        "colab": {
          "base_uri": "https://localhost:8080/",
          "height": 357
        }
      },
      "cell_type": "code",
      "source": [
        "#INPUT MATRIX TO BE SOLVED HERE#\n",
        "A = np.array([[1.,-0.25, -0.25, 0],[-0.25,1,0,-0.25],[-0.25,0,1,-0.25],[0,-0.25,-0.25,1]])\n",
        "b = np.array([[50.], [50.], [25.], [25.]])\n",
        "\n",
        "\n",
        "\n",
        "\n",
        "print('Input:\\nA=\\n' + str(A)); print('b=\\n' + str(b))   #Prints matrices\n",
        "print('\\nOutput:\\neigenvalues= ' + str(np.linalg.eigvals(A))) #Checks eigenvalues\n",
        "print ('\\nActual Solution: X=\\n' + str(np.linalg.solve(A,b))) #Exact solution as calculated by numpy"
      ],
      "execution_count": 165,
      "outputs": [
        {
          "output_type": "stream",
          "text": [
            "Input:\n",
            "A=\n",
            "[[ 1.00 -0.25 -0.25  0.00]\n",
            " [-0.25  1.00  0.00 -0.25]\n",
            " [-0.25  0.00  1.00 -0.25]\n",
            " [ 0.00 -0.25 -0.25  1.00]]\n",
            "B=\n",
            "[[50.]\n",
            " [50.]\n",
            " [25.]\n",
            " [25.]]\n",
            "\n",
            "Output:\n",
            "eigenvalues= [0.5 1.0 1.5 1.0]\n",
            "\n",
            "Actual Solution: X=\n",
            "[[87.5]\n",
            " [87.5]\n",
            " [62.5]\n",
            " [62.5]]\n"
          ],
          "name": "stdout"
        }
      ]
    },
    {
      "metadata": {
        "id": "Fjryd0r4XmMW",
        "colab_type": "text"
      },
      "cell_type": "markdown",
      "source": [
        "## Analytical Solution using Gauss Elimination"
      ]
    },
    {
      "metadata": {
        "trusted": true,
        "scrolled": true,
        "id": "c5G7I58VXmMY",
        "colab_type": "text"
      },
      "cell_type": "markdown",
      "source": [
        "## Analytical Solution using LU Factorization "
      ]
    },
    {
      "metadata": {
        "trusted": true,
        "id": "jMePtQLZXmMZ",
        "colab_type": "text"
      },
      "cell_type": "markdown",
      "source": [
        "This method uses the idea that all matrices (except those with some diagonal elements being zero) can be factorized into products Lower and upper triangular matrices:\n",
        "\n",
        "$$A = LU$$ \n",
        "\n",
        "$$\n",
        "\\begin{bmatrix}\n",
        "    A_{11}       & A_{12} & A_{13}  \\\\\n",
        "    A_{21}       & A_{22} & A_{23}  \\\\\n",
        "    A_{31}       & A_{32} & A_{33} \n",
        "\\end{bmatrix} =\n",
        "\\begin{bmatrix}\n",
        "    l_{11}       & 0 & 0  \\\\\n",
        "    l_{21}       & l_{22} & 0  \\\\\n",
        "    l_{31}       & l_{32} & l_{33} \n",
        "\\end{bmatrix} \n",
        "\\begin{bmatrix}\n",
        "    u_{11}       & u_{12} & u_{13}  \\\\\n",
        "    0       & u_{22} & u_{23}  \\\\\n",
        "    0       & 0 & 0\n",
        "\\end{bmatrix}\n",
        "$$\n",
        "\n",
        "There is more than one way of factorizing, so three **LU Factorization** methods are used:\n",
        "1. **Doolittle** - all Diagonals of $L$ are $1$    ($l_{11} = l_{22} = l_{nn} = 1$)\n",
        "2. **Crout** - all Diagonals of $U$ are $1$     ($u_{11} = u_{22} = u_{nn} = 1$)\n",
        "3. **Cholesky** - $U = L^\\text{T}$ or equivalently $L=U^\\text{T}$ such that $A=LL^\\text{T}$ (*works only if A=positive definite(**positive eigenvalues**) and symmetric **($A=A^\\text{T}$)**\n",
        "---\n",
        "**The procedure to solving linear systems is:**\n",
        "1. LU-Factorize the coefficients matrix $A$ using one of the methods\n",
        "2. Let $LY = b$ where $Y$ is an intermediate variable matrix. Solve for $Y$\n",
        "3. Let $UX = Y$ then solve for the unknowns $X$ \n",
        "\n",
        "(This works because $AX=b, LUX=b, \\text{let }Y=UX, \\text{so }LY=b$)"
      ]
    },
    {
      "metadata": {
        "id": "ctIl6LOlXmMa",
        "colab_type": "text"
      },
      "cell_type": "markdown",
      "source": [
        "I first create functions for steps 2 and 3 since all methods will require these steps"
      ]
    },
    {
      "metadata": {
        "trusted": true,
        "id": "_dUz0AOkXmMc",
        "colab_type": "code",
        "colab": {}
      },
      "cell_type": "code",
      "source": [
        "def LY_B (L, B) : #Step 2\n",
        "    Y =  np.matmul((np.linalg.inv(L)), B)\n",
        "    return Y\n",
        "\n",
        "def UX_Y (U, Y) : #Step 3\n",
        "    X = np.matmul(np.linalg.inv(U) , Y)\n",
        "    return X"
      ],
      "execution_count": 0,
      "outputs": []
    },
    {
      "metadata": {
        "id": "OvBWfSYWXmMf",
        "colab_type": "text"
      },
      "cell_type": "markdown",
      "source": [
        "Now I will perform the three methods of factorization methods"
      ]
    },
    {
      "metadata": {
        "id": "Bgjr1476XmMg",
        "colab_type": "text"
      },
      "cell_type": "markdown",
      "source": [
        "### 1. Doolittle's Method https://www.codewithc.com/lu-decomposition-algorithm-flowchart/ https://vismor.com/documents/network_analysis/matrix_algorithms/S4.SS2.php ###\n",
        "\n",
        "In the code, we convert the $LU$ vector multiplication into a dot multiplcation problem for better scaling."
      ]
    },
    {
      "metadata": {
        "trusted": true,
        "scrolled": true,
        "id": "gHpHkDH9XmMh",
        "colab_type": "code",
        "outputId": "87563293-d2eb-4b7f-d8a1-9327b83c7121",
        "colab": {
          "base_uri": "https://localhost:8080/",
          "height": 255
        }
      },
      "cell_type": "code",
      "source": [
        "#1. Doolittle Factorization https://stackoverflow.com/questions/48715594/why-is-my-profs-version-of-lu-decomposition-faster-than-mine-python-numpy\n",
        "def doolittle(A) : \n",
        "    N = np.size(A, 0)    # Number of Rows (Equations)\n",
        "    \n",
        "    # Create empty L U matrices with the dimensions of A\n",
        "    L = np.zeros_like(A)  \n",
        "    U = np.zeros_like(A)\n",
        "\n",
        "\n",
        "    for k in range(N):   #For each equation (row) k\n",
        "        #Determining Diagonal Elements\n",
        "        L[k, k] = 1      #Set the L diagonal to 1  (Doolittle Requirement)\n",
        "        U[k, k] = (A[k, k] - np.dot(L[k, :k], U[:k, k])) / L[k, k] \n",
        "        #Determining Other Elements\n",
        "        for j in range(k+1, N):\n",
        "            U[k, j] = (A[k, j] - np.dot(L[k, :k], U[:k, j])) / L[k, k]\n",
        "        for i in range(k+1, N):\n",
        "            L[i, k] = (A[i, k] - np.dot(L[i, :k], U[:k, k])) / U[k, k]\n",
        "    return L, U\n",
        "    \n",
        "L, U = doolittle(A);\n",
        "print ('L=\\n' +str(L)); print('U=\\n' + str(U))\n",
        "\n",
        "#Step 2, 3, ANS\n",
        "Y= LY_B(L,B)\n",
        "X = UX_Y(U,Y)\n",
        "print ('LY=B\\nY=\\n' + str(Y)); print ('UX=Y\\nX=\\n' +str(X) +'\\tANS')\n"
      ],
      "execution_count": 0,
      "outputs": [
        {
          "output_type": "stream",
          "text": [
            "L=\n",
            "[[1.  0. ]\n",
            " [2.5 1. ]]\n",
            "U=\n",
            "[[2.  1. ]\n",
            " [0.  4.5]]\n",
            "LY=B\n",
            "Y=\n",
            "[[ 11. ]\n",
            " [-14.5]]\n",
            "UX=Y\n",
            "X=\n",
            "[[ 7.11111111]\n",
            " [-3.22222222]]\tANS\n"
          ],
          "name": "stdout"
        }
      ]
    },
    {
      "metadata": {
        "trusted": true,
        "id": "0noOjoaUXmMp",
        "colab_type": "code",
        "outputId": "034a545e-e6c8-4754-e179-f2e42f170513",
        "colab": {
          "base_uri": "https://localhost:8080/",
          "height": 333
        }
      },
      "cell_type": "code",
      "source": [
        "#Doolittle using SciPy's functinos\n",
        "def scipy_plu(A) :\n",
        "    L, U = linalg.lu(A, True)\n",
        "    return L,U\n",
        "L,U = scipy_plu(A)\n",
        "print ('L=\\n' +str(L)); print('U=\\n' + str(U))\n",
        "\n",
        " #Step 2, 3, ANS\n",
        "Y= LY_B(L,B)\n",
        "X = UX_Y(U,Y)\n",
        "print ('LY=B\\nY=\\n' + str(Y)); print ('UX=Y\\nX=\\n' +str(X) +'\\tANS')"
      ],
      "execution_count": 0,
      "outputs": [
        {
          "output_type": "stream",
          "text": [
            "L=\n",
            "[[0.4 1. ]\n",
            " [1.  0. ]]\n",
            "U=\n",
            "[[ 5.   7. ]\n",
            " [ 0.  -1.8]]\n"
          ],
          "name": "stdout"
        },
        {
          "output_type": "error",
          "ename": "NameError",
          "evalue": "ignored",
          "traceback": [
            "\u001b[0;31m\u001b[0m",
            "\u001b[0;31mNameError\u001b[0mTraceback (most recent call last)",
            "\u001b[0;32m<ipython-input-13-4aa470380bde>\u001b[0m in \u001b[0;36m<module>\u001b[0;34m()\u001b[0m\n\u001b[1;32m      6\u001b[0m \u001b[0;34m\u001b[0m\u001b[0m\n\u001b[1;32m      7\u001b[0m  \u001b[0;31m#Step 2, 3, ANS\u001b[0m\u001b[0;34m\u001b[0m\u001b[0;34m\u001b[0m\u001b[0m\n\u001b[0;32m----> 8\u001b[0;31m \u001b[0mY\u001b[0m\u001b[0;34m=\u001b[0m \u001b[0mLY_B\u001b[0m\u001b[0;34m(\u001b[0m\u001b[0mL\u001b[0m\u001b[0;34m,\u001b[0m\u001b[0mB\u001b[0m\u001b[0;34m)\u001b[0m\u001b[0;34m\u001b[0m\u001b[0m\n\u001b[0m\u001b[1;32m      9\u001b[0m \u001b[0mX\u001b[0m \u001b[0;34m=\u001b[0m \u001b[0mUX_Y\u001b[0m\u001b[0;34m(\u001b[0m\u001b[0mU\u001b[0m\u001b[0;34m,\u001b[0m\u001b[0mY\u001b[0m\u001b[0;34m)\u001b[0m\u001b[0;34m\u001b[0m\u001b[0m\n\u001b[1;32m     10\u001b[0m \u001b[0;32mprint\u001b[0m \u001b[0;34m(\u001b[0m\u001b[0;34m'LY=B\\nY=\\n'\u001b[0m \u001b[0;34m+\u001b[0m \u001b[0mstr\u001b[0m\u001b[0;34m(\u001b[0m\u001b[0mY\u001b[0m\u001b[0;34m)\u001b[0m\u001b[0;34m)\u001b[0m\u001b[0;34m;\u001b[0m \u001b[0;32mprint\u001b[0m \u001b[0;34m(\u001b[0m\u001b[0;34m'UX=Y\\nX=\\n'\u001b[0m \u001b[0;34m+\u001b[0m\u001b[0mstr\u001b[0m\u001b[0;34m(\u001b[0m\u001b[0mX\u001b[0m\u001b[0;34m)\u001b[0m \u001b[0;34m+\u001b[0m\u001b[0;34m'\\tANS'\u001b[0m\u001b[0;34m)\u001b[0m\u001b[0;34m\u001b[0m\u001b[0m\n",
            "\u001b[0;31mNameError\u001b[0m: name 'LY_B' is not defined"
          ]
        }
      ]
    },
    {
      "metadata": {
        "id": "UJY11sX-XmMt",
        "colab_type": "text"
      },
      "cell_type": "markdown",
      "source": [
        "### 2. Crout's Method"
      ]
    },
    {
      "metadata": {
        "trusted": true,
        "id": "rbKaJrcOXmMu",
        "colab_type": "code",
        "colab": {}
      },
      "cell_type": "code",
      "source": [
        "#2. Crout Factorization \n"
      ],
      "execution_count": 0,
      "outputs": []
    },
    {
      "metadata": {
        "id": "EsKV9xM_XmMx",
        "colab_type": "text"
      },
      "cell_type": "markdown",
      "source": [
        "### 3. Cholesky's Method"
      ]
    },
    {
      "metadata": {
        "trusted": true,
        "id": "6fusl1i2XmMy",
        "colab_type": "code",
        "outputId": "5e8e637d-ca4f-45b7-ab45-f0c3db9cc8a8",
        "colab": {
          "base_uri": "https://localhost:8080/",
          "height": 255
        }
      },
      "cell_type": "code",
      "source": [
        "#3. Cholesky's Method\n",
        "def cholesky(A) :\n",
        "    L = np.linalg.cholesky(A) #wow!\n",
        "    U = L.T #Cholesky requirement U=transpose(L)\n",
        "    return L,U\n",
        "\n",
        "#Try the cholesky, and catch any errors\n",
        "try:\n",
        "    L,U = cholesky(A)\n",
        "except Exception as err:\n",
        "    print (err)\n",
        "print ('L=\\n' +str(L)); print('U=\\n' + str(U))\n",
        "#Step 2, 3, ANS\n",
        "Y= LY_B(L,B)\n",
        "X = UX_Y(U,Y)\n",
        "print ('LY=B\\nY=\\n' + str(Y)); print ('UX=Y\\nX=\\n' +str(X) +'\\tANS')"
      ],
      "execution_count": 0,
      "outputs": [
        {
          "output_type": "stream",
          "text": [
            "L=\n",
            "[[2.23606798 0.        ]\n",
            " [1.34164079 0.4472136 ]]\n",
            "U=\n",
            "[[2.23606798 1.34164079]\n",
            " [0.         0.4472136 ]]\n",
            "LY=B\n",
            "Y=\n",
            "[[0.4472136 ]\n",
            " [3.13049517]]\n",
            "UX=Y\n",
            "X=\n",
            "[[-4.]\n",
            " [ 7.]]\tANS\n"
          ],
          "name": "stdout"
        }
      ]
    },
    {
      "metadata": {
        "id": "LuSW72bHXmM3",
        "colab_type": "text"
      },
      "cell_type": "markdown",
      "source": [
        "## Numerical Solutions using Iterations"
      ]
    },
    {
      "metadata": {
        "id": "2q0cVfsNXmM5",
        "colab_type": "text"
      },
      "cell_type": "markdown",
      "source": [
        "This method uses repeated calculations to **approximate** the solutions. It is normally used for matrices with large diagonal entries and those with many zero coefficients."
      ]
    },
    {
      "metadata": {
        "id": "SvMpqiz4XmM5",
        "colab_type": "text"
      },
      "cell_type": "markdown",
      "source": [
        "### 1. Jacobi Iteration\n",
        "Assumes that the diagnoal elements are non-zero ($a_{nn}\\ne 0$)https://www3.nd.edu/~zxu2/acms40390F12/Lec-7.3.pdf https://www.kth.se/social/files/5885d039f2765429974418ce/Lab1.pdf\n",
        "https://gist.github.com/angellicacardozo/3a0891adfa38e2c4187612e57bf271d1\n",
        "\n",
        "\n",
        "For a system such as\n",
        "$$x + y + z = 1 \\\\2x+4y+8z=2 \\\\3x+12y+20z=3\\\\$$\n",
        "We try to isolate each variable in each equation as such:\n",
        "$$x=1-y-z(1)\\\\y=\\frac{2-2x-8z}{4}(2)\\\\z=\\frac{3-3x-12y}{20}(3)\n",
        "$$\n",
        "\n",
        "Now we come up with an *initial guess* of the solutions, $x^{(0)}$\n",
        "\n",
        "In our example, let's suppose $[x^{(0)}, y^{(0)}, z^{(0)}]=[0,0,0]$\n",
        "\n",
        "We substitute the initial guess into $(1),(2),(3)$, which will give us $x^{(1)}$ (our first iteration)\n",
        "\n",
        "We repeat this step until we are satisfied of our solutions.\n",
        "\n",
        "**In matrix form**, this is shown as\n",
        "\n",
        "$$A=\\begin{bmatrix}\n",
        "    1       & 1 & 1  \\\\\n",
        "    2       & 4 & 8  \\\\\n",
        "    3       & 12 & 20 \n",
        "\\end{bmatrix}\n",
        ", B=\n",
        "\\begin{bmatrix}\n",
        "    1      \\\\\n",
        "    2      \\\\\n",
        "    3     \n",
        "\\end{bmatrix}\n",
        "$$\n",
        "\n",
        "\n",
        "Then we attempt to create equations (1) (2) (3)  by separating the diagonals\n",
        "\n",
        "$$\n",
        "D=\\begin{bmatrix}\n",
        "    1      \\\\\n",
        "    4      \\\\\n",
        "    12     \n",
        "\\end{bmatrix} \\text{(Diagonal elements)}\n",
        "$$ \n",
        "\n",
        "$$\n",
        "R=\\begin{bmatrix}\n",
        "    1       & 1 & 1  \\\\\n",
        "    2       & 4 & 8  \\\\\n",
        "    3       & 12 & 20 \n",
        "\\end{bmatrix} -\n",
        "\\begin{bmatrix}\n",
        "    1       & 0& 0  \\\\\n",
        "    0       & 4 & 0 \\\\\n",
        "    0       & 0 & 20 \n",
        "\\end{bmatrix}\n",
        "=\\begin{bmatrix}\n",
        "    0       & 1 & 1  \\\\\n",
        "    2       & 0 & 8  \\\\\n",
        "    3       & 12 & 0 \n",
        "\\end{bmatrix}\n",
        "$$\n",
        "\n",
        "$$\n",
        "x^{(n)} = \\frac{(RX - B)}{D} \\text{  (elementwise division)}\n",
        "$$\n",
        "In code, the matrix multiplication RX is performed row-wise as a dot product problem to simplify code.\n",
        "\n",
        "The initial guess and iterations are placed in matrix $x$ and substituted as above.\n",
        "\n",
        "\n",
        "If the diagonals of $A$ are all $1$, the iteration can be written as $$x^{(n+1)}=B+(I-A)x^{(m)}$$. Otherwise, it is written as \n",
        "$$x_i^{(n)}=\\frac{1}{a_{ii}}[\\sum^{eq}_{j=1, j\\ne i}(-a_{ij}x^{(n)})+B]$$\n",
        "\n"
      ]
    },
    {
      "metadata": {
        "trusted": true,
        "id": "gemGKK0PXmM6",
        "colab_type": "code",
        "outputId": "732f810f-8008-49e3-a3cf-d8378d76644d",
        "colab": {
          "base_uri": "https://localhost:8080/",
          "height": 918
        }
      },
      "cell_type": "code",
      "source": [
        "###Please Input 'Guess' Here as a column vector###\n",
        "X = np.array([[100],[100],[100],[100]])\n",
        "\n",
        "Iterations = 100            # Stop calculation if either tolerance or iteration condition is met\n",
        "Tolerance = 0.0001 #Absolute Tolerance          Set to <=0 to ignore\n",
        "Print_Values = True #Print value of each step\n",
        "######################################################################\n",
        "print('Guess X=\\n'+str(X) + '\\nfor A=\\n' +str(A) + '  using ' +str(Iterations) + ' Iterations, Abs.Tol=' + str(Tolerance))\n",
        "\n",
        "def jacobi(A, b, N, x, tol):   \n",
        "    eq = np.size(A, 0)    # Number of Rows (Equations)\n",
        "    D = diag(A) #Obtain the diagonals as a row vector\n",
        "    R = A - diagflat(D) #Obtain matrix A without its diagonals\n",
        "                                                                                                                                                                    \n",
        "    for i in range(N): #Iterations\n",
        "        x_old = x #store previous iteration\n",
        "        x_max=0 #For error condition\n",
        "        x = (b - dot(R,x)) / D #new iteration\n",
        "        print(x)\n",
        "       \n",
        "        if np.amax(abs(x-x_old)) > x_max:\n",
        "          x_max = np.amax(abs(x-x_old))\n",
        "        if x_max < tol:\n",
        "          print('Tolerance condition met before number of iterations', i, x_max)\n",
        "          return x, i, x_max\n",
        "      \n",
        "          \n",
        "        if Print_Values is True: #Print values of each Iteration\n",
        "          if i is 0:\n",
        "            print('\\n\\n(Iteration, Iteration Values, Max Error)')  \n",
        "          print (i+1, str(x), x_max)\n",
        "    print('Number of iterations condition met before tolerance condition', i, x_max)\n",
        "    return x, i, x_max\n",
        "    \n",
        "\n",
        "b = B\n",
        "\n",
        "\n",
        "sol,iterN,x_max = jacobi(A,b.flatten(), Iterations, X.flatten() , Tolerance)\n",
        "print('\\n\\nX='+ str(sol) + '\\nwith a final tolerance of ' + str(x_max) + ' after ' + str(iterN) + ' iterations')"
      ],
      "execution_count": 209,
      "outputs": [
        {
          "output_type": "stream",
          "text": [
            "Guess X=\n",
            "[[100]\n",
            " [100]\n",
            " [100]\n",
            " [100]]\n",
            "for A=\n",
            "[[ 1.00 -0.25 -0.25  0.00]\n",
            " [-0.25  1.00  0.00 -0.25]\n",
            " [-0.25  0.00  1.00 -0.25]\n",
            " [ 0.00 -0.25 -0.25  1.00]]  using 100 Iterations, Abs.Tol=0.0001\n",
            "[100. 100.  75.  75.]\n",
            "\n",
            "\n",
            "(Iteration, Iteration Values, Max Error)\n",
            "(1, '[100. 100.  75.  75.]', 25.0)\n",
            "[93.75 93.75 68.75 68.75]\n",
            "(2, '[93.75 93.75 68.75 68.75]', 6.25)\n",
            "[90.625 90.625 65.625 65.625]\n",
            "(3, '[90.625 90.625 65.625 65.625]', 3.125)\n",
            "[89.0625 89.0625 64.0625 64.0625]\n",
            "(4, '[89.0625 89.0625 64.0625 64.0625]', 1.5625)\n",
            "[88.28125 88.28125 63.28125 63.28125]\n",
            "(5, '[88.28125 88.28125 63.28125 63.28125]', 0.78125)\n",
            "[87.890625 87.890625 62.890625 62.890625]\n",
            "(6, '[87.890625 87.890625 62.890625 62.890625]', 0.390625)\n",
            "[87.6953125 87.6953125 62.6953125 62.6953125]\n",
            "(7, '[87.6953125 87.6953125 62.6953125 62.6953125]', 0.1953125)\n",
            "[87.59765625 87.59765625 62.59765625 62.59765625]\n",
            "(8, '[87.59765625 87.59765625 62.59765625 62.59765625]', 0.09765625)\n",
            "[87.548828125 87.548828125 62.548828125 62.548828125]\n",
            "(9, '[87.548828125 87.548828125 62.548828125 62.548828125]', 0.048828125)\n",
            "[87.5244140625 87.5244140625 62.5244140625 62.5244140625]\n",
            "(10, '[87.5244140625 87.5244140625 62.5244140625 62.5244140625]', 0.0244140625)\n",
            "[87.5122070312 87.5122070312 62.5122070312 62.5122070312]\n",
            "(11, '[87.5122070312 87.5122070312 62.5122070312 62.5122070312]', 0.01220703125)\n",
            "[87.5061035156 87.5061035156 62.5061035156 62.5061035156]\n",
            "(12, '[87.5061035156 87.5061035156 62.5061035156 62.5061035156]', 0.006103515625)\n",
            "[87.5030517578 87.5030517578 62.5030517578 62.5030517578]\n",
            "(13, '[87.5030517578 87.5030517578 62.5030517578 62.5030517578]', 0.0030517578125)\n",
            "[87.5015258789 87.5015258789 62.5015258789 62.5015258789]\n",
            "(14, '[87.5015258789 87.5015258789 62.5015258789 62.5015258789]', 0.00152587890625)\n",
            "[87.5007629395 87.5007629395 62.5007629395 62.5007629395]\n",
            "(15, '[87.5007629395 87.5007629395 62.5007629395 62.5007629395]', 0.000762939453125)\n",
            "[87.5003814697 87.5003814697 62.5003814697 62.5003814697]\n",
            "(16, '[87.5003814697 87.5003814697 62.5003814697 62.5003814697]', 0.0003814697265625)\n",
            "[87.5001907349 87.5001907349 62.5001907349 62.5001907349]\n",
            "(17, '[87.5001907349 87.5001907349 62.5001907349 62.5001907349]', 0.00019073486328125)\n",
            "[87.5000953674 87.5000953674 62.5000953674 62.5000953674]\n",
            "('Tolerance condition met before number of iterations', 17, 9.5367431640625e-05)\n",
            "\n",
            "\n",
            "X=[87.5000953674 87.5000953674 62.5000953674 62.5000953674]\n",
            "with a final tolerance of 9.5367431640625e-05 after 17 iterations\n"
          ],
          "name": "stdout"
        }
      ]
    },
    {
      "metadata": {
        "id": "ZgZkUQsK5J6N",
        "colab_type": "text"
      },
      "cell_type": "markdown",
      "source": [
        "### 2. Gauss-Seidel Iteration\n",
        "https://austingwalters.com/gauss-seidel-method/\n",
        "http://milesbarnhart.com/portfolio/python/python-gauss-seidel-approximation-method/\n",
        "\n",
        "With the Jacobi method, we use the same iteration values $x^{(n)}$ until we are done with the iteration.\n",
        "\n",
        "With the Gauss-Seidel method, we use the newly calculated value $x^{(n+1)}_i$ right after it is known. For example, once we determined $x_1^{(n+1)}$ from the first equation, we use it to find $x_2^{(n+1)}$ in the second equation right away. \n",
        "\n",
        "This is similar to the previous method, but requires certain modifications to the equation.\n",
        "\n",
        "In matrix form, we wil have to separate the lower and upper triangles of matrix $A$ to account for this change. The matrix equation becomes $$x^{(n+1)} = B - L x^{(n+1)} - Ux^{(n)}$$"
      ]
    },
    {
      "metadata": {
        "id": "ULqM_2mTE5oM",
        "colab_type": "code",
        "colab": {}
      },
      "cell_type": "code",
      "source": [
        "def gauss(A, b, x, n):\n",
        "\n",
        "    L = np.tril(A) #Lower triangle\n",
        "    U = A - L\n",
        "    print (L)\n",
        "    print(U)\n",
        "    print (np.matmul(U,x))\n",
        "    for i in range(n):\n",
        "        x = np.matmul(np.linalg.inv(L), b - np.matmul(U, x))\n",
        "        #print str(i),\n",
        "       # print(x)\n",
        "    return x\n",
        "\n",
        "#A = np.array([[4.0, -2.0, 1.0], [1.0, -3.0, 2.0], [-1.0, 2.0, 6.0]])\n",
        "#b = [1.0, 2.0, 3.0]\n",
        "#x = [1, 1, 1]\n",
        "\n",
        "n = 100\n",
        "\n",
        "print gauss(A, b.flatten(), X.flatten(), n)"
      ],
      "execution_count": 0,
      "outputs": []
    },
    {
      "metadata": {
        "id": "wUyxUrsr71GR",
        "colab_type": "code",
        "colab": {
          "base_uri": "https://localhost:8080/",
          "height": 187
        },
        "outputId": "122aaade-200b-4487-9727-f1be6466b889"
      },
      "cell_type": "code",
      "source": [
        "def gauss(A, b, x, n):\n",
        "\n",
        "    L = np.tril(A) #Lower triangle\n",
        "    U = A - L\n",
        "    print (L)\n",
        "    print(U)\n",
        "    print (np.matmul(U,x))\n",
        "    for i in range(n):\n",
        "        x = np.matmul(np.linalg.inv(L), b - np.matmul(U, x))\n",
        "        #print str(i),\n",
        "       # print(x)\n",
        "    return x\n",
        "\n",
        "#A = np.array([[4.0, -2.0, 1.0], [1.0, -3.0, 2.0], [-1.0, 2.0, 6.0]])\n",
        "#b = [1.0, 2.0, 3.0]\n",
        "#x = [1, 1, 1]\n",
        "\n",
        "n = 100\n",
        "\n",
        "print gauss(A, b.flatten(), X.flatten(), n)"
      ],
      "execution_count": 207,
      "outputs": [
        {
          "output_type": "stream",
          "text": [
            "[[ 1.00  0.00  0.00  0.00]\n",
            " [-0.25  1.00  0.00  0.00]\n",
            " [-0.25  0.00  1.00  0.00]\n",
            " [ 0.00 -0.25 -0.25  1.00]]\n",
            "[[ 0.00 -0.25 -0.25  0.00]\n",
            " [ 0.00  0.00  0.00 -0.25]\n",
            " [ 0.00  0.00  0.00 -0.25]\n",
            " [ 0.00  0.00  0.00  0.00]]\n",
            "[-50. -25. -25.   0.]\n",
            "[87.5 87.5 62.5 62.5]\n"
          ],
          "name": "stdout"
        }
      ]
    }
  ]
}